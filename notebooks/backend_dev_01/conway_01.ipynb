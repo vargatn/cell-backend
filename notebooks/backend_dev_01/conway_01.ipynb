{
 "cells": [
  {
   "cell_type": "markdown",
   "id": "4efc7f4c",
   "metadata": {},
   "source": [
    "Simple conway game of life rules on GPU"
   ]
  },
  {
   "cell_type": "code",
   "execution_count": 11,
   "id": "a073640d",
   "metadata": {},
   "outputs": [],
   "source": [
    "import torch\n",
    "import numpy as np\n",
    "import os\n",
    "\n",
    "import matplotlib.pyplot as plt\n",
    "\n",
    "os.environ[\"PYTORCH_CUDA_ALLOC_CONF\"] = \"caching_allocator\""
   ]
  },
  {
   "cell_type": "code",
   "execution_count": 95,
   "id": "edeaa960",
   "metadata": {},
   "outputs": [],
   "source": [
    "torch.cuda.is_available()\n",
    "cuda = torch.device('cuda')\n",
    "cpu = torch.device('cpu')\n"
   ]
  },
  {
   "cell_type": "code",
   "execution_count": 96,
   "id": "7ef00e9b",
   "metadata": {},
   "outputs": [],
   "source": [
    "canvas = torch.randint(0, 2, (100, 100), device=cuda, dtype=torch.int)"
   ]
  },
  {
   "cell_type": "code",
   "execution_count": 97,
   "id": "12429517",
   "metadata": {},
   "outputs": [
    {
     "data": {
      "text/plain": [
       "tensor([[0, 0, 0,  ..., 0, 1, 0],\n",
       "        [0, 1, 0,  ..., 0, 1, 1],\n",
       "        [1, 1, 1,  ..., 1, 1, 0],\n",
       "        ...,\n",
       "        [1, 1, 0,  ..., 1, 0, 0],\n",
       "        [1, 1, 0,  ..., 0, 1, 0],\n",
       "        [0, 1, 1,  ..., 0, 1, 0]], dtype=torch.int32)"
      ]
     },
     "execution_count": 97,
     "metadata": {},
     "output_type": "execute_result"
    }
   ],
   "source": [
    "canvas.to(cpu)"
   ]
  },
  {
   "cell_type": "code",
   "execution_count": 98,
   "id": "a85fb65e",
   "metadata": {},
   "outputs": [
    {
     "data": {
      "text/plain": [
       "<matplotlib.image.AxesImage at 0x7f55b352c4f0>"
      ]
     },
     "execution_count": 98,
     "metadata": {},
     "output_type": "execute_result"
    },
    {
     "data": {
      "image/png": "[encoded data removed]",
      "text/plain": [
       "<Figure size 640x480 with 1 Axes>"
      ]
     },
     "metadata": {},
     "output_type": "display_data"
    }
   ],
   "source": [
    "plt.imshow(canvas.to(cpu), origin=\"lower\")"
   ]
  },
  {
   "cell_type": "code",
   "execution_count": 99,
   "id": "dea6d0d4",
   "metadata": {},
   "outputs": [
    {
     "data": {
      "text/plain": [
       "tensor([[0, 1, 0,  ..., 0, 1, 1],\n",
       "        [1, 1, 1,  ..., 1, 1, 0],\n",
       "        [0, 0, 1,  ..., 0, 1, 0],\n",
       "        ...,\n",
       "        [1, 1, 0,  ..., 0, 1, 0],\n",
       "        [0, 1, 1,  ..., 0, 1, 0],\n",
       "        [0, 0, 0,  ..., 0, 1, 0]], device='cuda:0', dtype=torch.int32)"
      ]
     },
     "execution_count": 99,
     "metadata": {},
     "output_type": "execute_result"
    }
   ],
   "source": [
    "torch.roll(canvas, -1, dims=0)"
   ]
  },
  {
   "cell_type": "code",
   "execution_count": 47,
   "id": "ea03ebba",
   "metadata": {},
   "outputs": [
    {
     "data": {
      "text/plain": [
       "device(type='cuda', index=0)"
      ]
     },
     "execution_count": 47,
     "metadata": {},
     "output_type": "execute_result"
    }
   ],
   "source": [
    "canvas.device"
   ]
  },
  {
   "cell_type": "code",
   "execution_count": 177,
   "id": "504a255c",
   "metadata": {},
   "outputs": [],
   "source": [
    "def calc_shifted(intensor):\n",
    "    \"\"\"shifted up, down, left, right\"\"\"\n",
    "    out_size = (*tuple(intensor.shape), 4)\n",
    "    output = torch.zeros(out_size, dtype=intensor.dtype, device=intensor.device)   \n",
    "    output[:, :, 0] = torch.roll(intensor, shifts=-1, dims=0)\n",
    "    output[:, :, 1] = torch.roll(intensor, shifts=1, dims=0)\n",
    "    output[:, :, 2] = torch.roll(intensor, shifts=-1, dims=1)\n",
    "    output[:, :, 3] = torch.roll(intensor, shifts=1, dims=1)\n",
    "    return output\n",
    "    \n",
    "def calc_unshifted(intensor):\n",
    "    out_size = (*tuple(intensor.shape), 4)\n",
    "    output = torch.zeros(out_size, dtype=intensor.dtype, device=intensor.device)   \n",
    "    output[:, :, 0] = torch.roll(intensor, shifts=1, dims=0)\n",
    "    output[:, :, 1] = torch.roll(intensor, shifts=-1, dims=0)\n",
    "    output[:, :, 2] = torch.roll(intensor, shifts=1, dims=1)\n",
    "    output[:, :, 3] = torch.roll(intensor, shifts=-1, dims=1)\n",
    "    return output\n",
    "\n",
    "def center_cut(intensor):\n",
    "    output = intensor[1:-1, 1:-1]\n",
    "    return output\n",
    "    \n",
    "def center_cut_dd(intensor):\n",
    "    output = intensor[1:-1, 1:-1, :]\n",
    "    return output\n",
    "    \n",
    "def null_edges(intensor):\n",
    "    intensor[0, :] = 0\n",
    "    intensor[:, 0] = 0\n",
    "    intensor[:, -1] = 0\n",
    "    intensor[-1, :] = 0\n",
    "    return intensor\n",
    "\n",
    "\n",
    "def pad(canvas):\n",
    "    \"\"\"Warning, torch pad has a really strange syntax\"\"\"\n",
    "    arr = torch.nn.functional.pad(canvas, (1, 1, 1, 1), mode=\"constant\", value=0)\n",
    "    return arr"
   ]
  },
  {
   "cell_type": "code",
   "execution_count": 178,
   "id": "9567ebc8",
   "metadata": {},
   "outputs": [],
   "source": [
    "canvas = torch.randint(0, 2, (10, 10), device=cuda, dtype=torch.int)"
   ]
  },
  {
   "cell_type": "code",
   "execution_count": 179,
   "id": "a35e200a",
   "metadata": {},
   "outputs": [
    {
     "data": {
      "text/plain": [
       "torch.Size([10, 10])"
      ]
     },
     "execution_count": 179,
     "metadata": {},
     "output_type": "execute_result"
    }
   ],
   "source": [
    "canvas.shape"
   ]
  },
  {
   "cell_type": "code",
   "execution_count": 180,
   "id": "3ba393c2",
   "metadata": {},
   "outputs": [
    {
     "data": {
      "text/plain": [
       "torch.Size([12, 12])"
      ]
     },
     "execution_count": 180,
     "metadata": {},
     "output_type": "execute_result"
    }
   ],
   "source": [
    "pad(canvas).shape"
   ]
  },
  {
   "cell_type": "code",
   "execution_count": 203,
   "id": "38f7e49d",
   "metadata": {},
   "outputs": [
    {
     "data": {
      "text/plain": [
       "tensor([[1, 1, 1, 1, 1, 0, 0, 0, 0, 1],\n",
       "        [1, 0, 0, 1, 0, 1, 1, 0, 0, 0],\n",
       "        [0, 0, 0, 1, 1, 0, 1, 0, 0, 1],\n",
       "        [1, 1, 1, 1, 0, 0, 1, 0, 0, 1],\n",
       "        [0, 1, 0, 0, 0, 1, 1, 0, 1, 1],\n",
       "        [0, 1, 1, 1, 1, 0, 1, 1, 1, 1],\n",
       "        [1, 1, 0, 0, 0, 0, 0, 0, 1, 0],\n",
       "        [1, 0, 0, 1, 1, 0, 0, 1, 0, 0],\n",
       "        [0, 0, 1, 0, 1, 1, 1, 0, 0, 0],\n",
       "        [1, 0, 0, 1, 1, 1, 0, 0, 1, 0]], device='cuda:0', dtype=torch.int32)"
      ]
     },
     "execution_count": 203,
     "metadata": {},
     "output_type": "execute_result"
    }
   ],
   "source": [
    "canvas"
   ]
  },
  {
   "cell_type": "code",
   "execution_count": 181,
   "id": "cea3a4ae",
   "metadata": {},
   "outputs": [
    {
     "data": {
      "text/plain": [
       "<matplotlib.image.AxesImage at 0x7f55a1ce5280>"
      ]
     },
     "execution_count": 181,
     "metadata": {},
     "output_type": "execute_result"
    },
    {
     "data": {
      "image/png": "[encoded data removed]",
      "text/plain": [
       "<Figure size 640x480 with 1 Axes>"
      ]
     },
     "metadata": {},
     "output_type": "display_data"
    }
   ],
   "source": [
    "plt.imshow(canvas.to(cpu), origin=\"lower\")"
   ]
  },
  {
   "cell_type": "code",
   "execution_count": 184,
   "id": "81db0713",
   "metadata": {},
   "outputs": [],
   "source": [
    "tens = center_cut_dd(calc_shifted(pad(canvas)))"
   ]
  },
  {
   "cell_type": "code",
   "execution_count": 194,
   "id": "afa1ff81",
   "metadata": {},
   "outputs": [
    {
     "data": {
      "text/plain": [
       "<matplotlib.image.AxesImage at 0x7f55a1f25eb0>"
      ]
     },
     "execution_count": 194,
     "metadata": {},
     "output_type": "execute_result"
    },
    {
     "data": {
      "image/png": "[encoded data removed]",
      "text/plain": [
       "<Figure size 640x480 with 1 Axes>"
      ]
     },
     "metadata": {},
     "output_type": "display_data"
    }
   ],
   "source": [
    "plt.imshow(tens[:, :, 3].to(cpu), origin=\"lower\")"
   ]
  },
  {
   "cell_type": "code",
   "execution_count": null,
   "id": "06a21ccf",
   "metadata": {},
   "outputs": [],
   "source": [
    "center_cut_dd(calc_shifted(pad(canvas)))"
   ]
  },
  {
   "cell_type": "code",
   "execution_count": 198,
   "id": "5b9a694f",
   "metadata": {},
   "outputs": [],
   "source": [
    "neighbors = center_cut_dd(calc_shifted(pad(canvas)))\n",
    "envsum = neighbors.sum(dim=-1)"
   ]
  },
  {
   "cell_type": "code",
   "execution_count": 199,
   "id": "212a2e40",
   "metadata": {},
   "outputs": [
    {
     "data": {
      "text/plain": [
       "<matplotlib.image.AxesImage at 0x7f55a1b6a130>"
      ]
     },
     "execution_count": 199,
     "metadata": {},
     "output_type": "execute_result"
    },
    {
     "data": {
      "image/png": "[encoded data removed]",
      "text/plain": [
       "<Figure size 640x480 with 1 Axes>"
      ]
     },
     "metadata": {},
     "output_type": "display_data"
    }
   ],
   "source": [
    "plt.imshow(envsum.to(cpu), origin=\"lower\")"
   ]
  },
  {
   "cell_type": "markdown",
   "id": "e6f9d7ac",
   "metadata": {},
   "source": [
    "    Any live cell with fewer than two live neighbours dies, as if by underpopulation.\n",
    "    Any live cell with two or three live neighbours lives on to the next generation.\n",
    "    Any live cell with more than three live neighbours dies, as if by overpopulation.\n",
    "    Any dead cell with exactly three live neighbours becomes a live cell, as if by reproduction."
   ]
  },
  {
   "cell_type": "code",
   "execution_count": 324,
   "id": "cf7adbd7",
   "metadata": {},
   "outputs": [
    {
     "data": {
      "text/plain": [
       "tensor([[2, 2, 2, 3, 1, 2, 1, 0, 1, 0],\n",
       "        [1, 2, 2, 2, 4, 1, 2, 1, 0, 2],\n",
       "        [2, 1, 2, 3, 1, 3, 2, 1, 1, 1],\n",
       "        [1, 3, 2, 2, 2, 2, 2, 1, 2, 2],\n",
       "        [2, 2, 3, 2, 2, 1, 3, 3, 2, 3],\n",
       "        [2, 3, 2, 2, 1, 3, 2, 2, 4, 2],\n",
       "        [2, 2, 2, 2, 2, 0, 1, 3, 1, 2],\n",
       "        [1, 2, 2, 1, 2, 2, 2, 0, 2, 0],\n",
       "        [2, 1, 0, 4, 3, 3, 1, 2, 1, 0],\n",
       "        [0, 1, 2, 1, 3, 2, 2, 1, 0, 1]], device='cuda:0')"
      ]
     },
     "execution_count": 324,
     "metadata": {},
     "output_type": "execute_result"
    }
   ],
   "source": [
    "envsum"
   ]
  },
  {
   "cell_type": "code",
   "execution_count": null,
   "id": "542b9288",
   "metadata": {},
   "outputs": [],
   "source": [
    "torch.heaviside()"
   ]
  },
  {
   "cell_type": "code",
   "execution_count": 325,
   "id": "c47b53aa",
   "metadata": {},
   "outputs": [
    {
     "data": {
      "text/plain": [
       "tensor([[ 0,  0,  0,  1, -1,  0, -1, -1, -1, -1],\n",
       "        [-1,  0,  0,  0,  1, -1,  0, -1, -1,  0],\n",
       "        [ 0, -1,  0,  1, -1,  1,  0, -1, -1, -1],\n",
       "        [-1,  1,  0,  0,  0,  0,  0, -1,  0,  0],\n",
       "        [ 0,  0,  1,  0,  0, -1,  1,  1,  0,  1],\n",
       "        [ 0,  1,  0,  0, -1,  1,  0,  0,  1,  0],\n",
       "        [ 0,  0,  0,  0,  0, -1, -1,  1, -1,  0],\n",
       "        [-1,  0,  0, -1,  0,  0,  0, -1,  0, -1],\n",
       "        [ 0, -1, -1,  1,  1,  1, -1,  0, -1, -1],\n",
       "        [-1, -1,  0, -1,  1,  0,  0, -1, -1, -1]], device='cuda:0')"
      ]
     },
     "execution_count": 325,
     "metadata": {},
     "output_type": "execute_result"
    }
   ],
   "source": [
    "torch.sign(envsum - 2)"
   ]
  },
  {
   "cell_type": "code",
   "execution_count": 311,
   "id": "1950d163",
   "metadata": {},
   "outputs": [],
   "source": [
    "new_canvas = torch.sign(envsum - 2)"
   ]
  },
  {
   "cell_type": "code",
   "execution_count": null,
   "id": "34dcd878",
   "metadata": {},
   "outputs": [],
   "source": []
  },
  {
   "cell_type": "code",
   "execution_count": 310,
   "id": "ae0360db",
   "metadata": {},
   "outputs": [
    {
     "data": {
      "text/plain": [
       "tensor([[-1, -1, -1,  1, -2, -1, -2, -2, -2, -2],\n",
       "        [-2, -1, -1, -1,  2, -2, -1, -2, -2, -1],\n",
       "        [-1, -2, -1,  1, -2,  1, -1, -2, -2, -2],\n",
       "        [-2,  1, -1, -1, -1, -1, -1, -2, -1, -1],\n",
       "        [-1, -1,  1, -1, -1, -2,  1,  1, -1,  1],\n",
       "        [-1,  1, -1, -1, -2,  1, -1, -1,  2, -1],\n",
       "        [-1, -1, -1, -1, -1, -2, -2,  1, -2, -1],\n",
       "        [-2, -1, -1, -2, -1, -1, -1, -2, -1, -2],\n",
       "        [-1, -2, -2,  2,  1,  1, -2, -1, -2, -2],\n",
       "        [-2, -2, -1, -2,  1, -1, -1, -2, -2, -2]], device='cuda:0')"
      ]
     },
     "execution_count": 310,
     "metadata": {},
     "output_type": "execute_result"
    }
   ],
   "source": [
    "new_canvas"
   ]
  },
  {
   "cell_type": "code",
   "execution_count": 323,
   "id": "30392a7c",
   "metadata": {},
   "outputs": [
    {
     "data": {
      "text/plain": [
       "tensor([[ 0,  0,  0,  1, -1,  0, -1, -1, -1, -1],\n",
       "        [-1,  0,  0,  0,  1, -1,  0, -1, -1,  0],\n",
       "        [ 0, -1,  0,  1, -1,  1,  0, -1, -1, -1],\n",
       "        [-1,  1,  0,  0,  0,  0,  0, -1,  0,  0],\n",
       "        [ 0,  0,  1,  0,  0, -1,  1,  1,  0,  1],\n",
       "        [ 0,  1,  0,  0, -1,  1,  0,  0,  1,  0],\n",
       "        [ 0,  0,  0,  0,  0, -1, -1,  1, -1,  0],\n",
       "        [-1,  0,  0, -1,  0,  0,  0, -1,  0, -1],\n",
       "        [ 0, -1, -1,  1,  1,  1, -1,  0, -1, -1],\n",
       "        [-1, -1,  0, -1,  1,  0,  0, -1, -1, -1]], device='cuda:0')"
      ]
     },
     "execution_count": 323,
     "metadata": {},
     "output_type": "execute_result"
    }
   ],
   "source": [
    "torch.sign(envsum - 2)"
   ]
  },
  {
   "cell_type": "code",
   "execution_count": 287,
   "id": "8c3982be",
   "metadata": {},
   "outputs": [
    {
     "data": {
      "text/plain": [
       "tensor([[0, 0, 0, 1, 0, 0, 0, 0, 0, 0],\n",
       "        [0, 0, 0, 0, 2, 0, 0, 0, 0, 0],\n",
       "        [0, 0, 0, 1, 0, 1, 0, 0, 0, 0],\n",
       "        [0, 1, 0, 0, 0, 0, 0, 0, 0, 0],\n",
       "        [0, 0, 1, 0, 0, 0, 1, 1, 0, 1],\n",
       "        [0, 1, 0, 0, 0, 1, 0, 0, 2, 0],\n",
       "        [0, 0, 0, 0, 0, 0, 0, 1, 0, 0],\n",
       "        [0, 0, 0, 0, 0, 0, 0, 0, 0, 0],\n",
       "        [0, 0, 0, 2, 1, 1, 0, 0, 0, 0],\n",
       "        [0, 0, 0, 0, 1, 0, 0, 0, 0, 0]], device='cuda:0')"
      ]
     },
     "execution_count": 287,
     "metadata": {},
     "output_type": "execute_result"
    }
   ],
   "source": [
    "torch.sign(envsum - 3)  + 1 "
   ]
  },
  {
   "cell_type": "code",
   "execution_count": 296,
   "id": "d68fe215",
   "metadata": {},
   "outputs": [
    {
     "data": {
      "text/plain": [
       "tensor([[0, 0, 0, 1, 0, 0, 0, 0, 0, 0],\n",
       "        [0, 0, 0, 0, 2, 0, 0, 0, 0, 0],\n",
       "        [0, 0, 0, 1, 0, 1, 0, 0, 0, 0],\n",
       "        [0, 1, 0, 0, 0, 0, 0, 0, 0, 0],\n",
       "        [0, 0, 1, 0, 0, 0, 1, 1, 0, 1],\n",
       "        [0, 1, 0, 0, 0, 1, 0, 0, 2, 0],\n",
       "        [0, 0, 0, 0, 0, 0, 0, 1, 0, 0],\n",
       "        [0, 0, 0, 0, 0, 0, 0, 0, 0, 0],\n",
       "        [0, 0, 0, 2, 1, 1, 0, 0, 0, 0],\n",
       "        [0, 0, 0, 0, 1, 0, 0, 0, 0, 0]], device='cuda:0')"
      ]
     },
     "execution_count": 296,
     "metadata": {},
     "output_type": "execute_result"
    }
   ],
   "source": [
    "torch.sign(envsum - 3)  + 1 "
   ]
  },
  {
   "cell_type": "code",
   "execution_count": 297,
   "id": "d3b18800",
   "metadata": {},
   "outputs": [
    {
     "data": {
      "text/plain": [
       "tensor([[0, 0, 0, 0, 0, 0, 0, 0, 0, 0],\n",
       "        [0, 0, 0, 0, 1, 0, 0, 0, 0, 0],\n",
       "        [0, 0, 0, 0, 0, 0, 0, 0, 0, 0],\n",
       "        [0, 0, 0, 0, 0, 0, 0, 0, 0, 0],\n",
       "        [0, 0, 0, 0, 0, 0, 0, 0, 0, 0],\n",
       "        [0, 0, 0, 0, 0, 0, 0, 0, 1, 0],\n",
       "        [0, 0, 0, 0, 0, 0, 0, 0, 0, 0],\n",
       "        [0, 0, 0, 0, 0, 0, 0, 0, 0, 0],\n",
       "        [0, 0, 0, 1, 0, 0, 0, 0, 0, 0],\n",
       "        [0, 0, 0, 0, 0, 0, 0, 0, 0, 0]], device='cuda:0')"
      ]
     },
     "execution_count": 297,
     "metadata": {},
     "output_type": "execute_result"
    }
   ],
   "source": [
    "torch.sign(envsum - 4) + 1"
   ]
  },
  {
   "cell_type": "code",
   "execution_count": 256,
   "id": "7f82368d",
   "metadata": {},
   "outputs": [],
   "source": [
    "new_canvas = torch.zeros(canvas.shape)\n",
    "\n",
    "check_2 = torch.ones_like(canvas) * 2\n",
    "check_3 = torch.ones_like(canvas) * 3\n",
    "\n",
    "clive = canvas.type(torch.bool)\n",
    "\n",
    "# id0 = torch.nonzero((envsum <= check_2) & clive)\n",
    "# new_canvas[id0]  = 0\n",
    "\n",
    "id1 = torch.nonzero((envsum == check_3) & clive)\n",
    "new_canvas[id1]  = 1\n",
    "\n",
    "# id2 = torch.nonzero((envsum >= check_3) & clive)\n",
    "# new_canvas[id2]  = 0\n",
    "\n",
    "# id3 = torch.nonzero((envsum == check_3) & ~clive)\n",
    "# new_canvas[id3]  = 1"
   ]
  },
  {
   "cell_type": "code",
   "execution_count": 263,
   "id": "fee4a089",
   "metadata": {},
   "outputs": [
    {
     "data": {
      "text/plain": [
       "torch.Size([10, 10])"
      ]
     },
     "execution_count": 263,
     "metadata": {},
     "output_type": "execute_result"
    }
   ],
   "source": [
    "canvas.shape"
   ]
  },
  {
   "cell_type": "code",
   "execution_count": 266,
   "id": "8100dcf7",
   "metadata": {},
   "outputs": [
    {
     "data": {
      "text/plain": [
       "tensor(1, device='cuda:0', dtype=torch.int32)"
      ]
     },
     "execution_count": 266,
     "metadata": {},
     "output_type": "execute_result"
    }
   ],
   "source": [
    "canvas[0][3]"
   ]
  },
  {
   "cell_type": "code",
   "execution_count": 264,
   "id": "3b7afc07",
   "metadata": {},
   "outputs": [
    {
     "data": {
      "text/plain": [
       "tensor([0, 3], device='cuda:0')"
      ]
     },
     "execution_count": 264,
     "metadata": {},
     "output_type": "execute_result"
    }
   ],
   "source": [
    "id1[0]"
   ]
  },
  {
   "cell_type": "code",
   "execution_count": 262,
   "id": "d8e4e284",
   "metadata": {},
   "outputs": [
    {
     "data": {
      "text/plain": [
       "tensor([[[1, 1, 1, 1, 1, 0, 0, 0, 0, 1],\n",
       "         [1, 1, 1, 1, 0, 0, 1, 0, 0, 1]],\n",
       "\n",
       "        [[0, 0, 0, 1, 1, 0, 1, 0, 0, 1],\n",
       "         [1, 1, 1, 1, 0, 0, 1, 0, 0, 1]],\n",
       "\n",
       "        [[1, 1, 1, 1, 0, 0, 1, 0, 0, 1],\n",
       "         [1, 0, 0, 1, 0, 1, 1, 0, 0, 0]],\n",
       "\n",
       "        [[0, 1, 0, 0, 0, 1, 1, 0, 1, 1],\n",
       "         [1, 1, 0, 0, 0, 0, 0, 0, 1, 0]],\n",
       "\n",
       "        [[0, 1, 0, 0, 0, 1, 1, 0, 1, 1],\n",
       "         [1, 0, 0, 1, 1, 1, 0, 0, 1, 0]],\n",
       "\n",
       "        [[0, 1, 1, 1, 1, 0, 1, 1, 1, 1],\n",
       "         [1, 0, 0, 1, 0, 1, 1, 0, 0, 0]],\n",
       "\n",
       "        [[0, 0, 1, 0, 1, 1, 1, 0, 0, 0],\n",
       "         [0, 1, 0, 0, 0, 1, 1, 0, 1, 1]],\n",
       "\n",
       "        [[0, 0, 1, 0, 1, 1, 1, 0, 0, 0],\n",
       "         [0, 1, 1, 1, 1, 0, 1, 1, 1, 1]],\n",
       "\n",
       "        [[1, 0, 0, 1, 1, 1, 0, 0, 1, 0],\n",
       "         [0, 1, 0, 0, 0, 1, 1, 0, 1, 1]]], device='cuda:0', dtype=torch.int32)"
      ]
     },
     "execution_count": 262,
     "metadata": {},
     "output_type": "execute_result"
    }
   ],
   "source": [
    "canvas[id1]"
   ]
  },
  {
   "cell_type": "code",
   "execution_count": 259,
   "id": "f64784ea",
   "metadata": {
    "scrolled": true
   },
   "outputs": [
    {
     "data": {
      "text/plain": [
       "<matplotlib.image.AxesImage at 0x7f55a15ec4f0>"
      ]
     },
     "execution_count": 259,
     "metadata": {},
     "output_type": "execute_result"
    },
    {
     "data": {
      "image/png": "[encoded data removed]",
      "text/plain": [
       "<Figure size 640x480 with 1 Axes>"
      ]
     },
     "metadata": {},
     "output_type": "display_data"
    }
   ],
   "source": [
    "plt.imshow(canvas.to(cpu), origin=\"lower\")"
   ]
  },
  {
   "cell_type": "code",
   "execution_count": 258,
   "id": "c15961f0",
   "metadata": {},
   "outputs": [
    {
     "data": {
      "text/plain": [
       "<matplotlib.image.AxesImage at 0x7f55a12c6b80>"
      ]
     },
     "execution_count": 258,
     "metadata": {},
     "output_type": "execute_result"
    },
    {
     "data": {
      "image/png": "[encoded data removed]",
      "text/plain": [
       "<Figure size 640x480 with 1 Axes>"
      ]
     },
     "metadata": {},
     "output_type": "display_data"
    }
   ],
   "source": [
    "plt.imshow(new_canvas.to(cpu), origin=\"lower\")"
   ]
  },
  {
   "cell_type": "code",
   "execution_count": null,
   "id": "19376952",
   "metadata": {},
   "outputs": [],
   "source": [
    "torch.inverse"
   ]
  },
  {
   "cell_type": "code",
   "execution_count": 233,
   "id": "7e4ccea7",
   "metadata": {},
   "outputs": [
    {
     "ename": "RuntimeError",
     "evalue": "Boolean value of Tensor with more than one value is ambiguous",
     "output_type": "error",
     "traceback": [
      "\u001b[0;31m---------------------------------------------------------------------------\u001b[0m",
      "\u001b[0;31mRuntimeError\u001b[0m                              Traceback (most recent call last)",
      "\u001b[0;32m/tmp/ipykernel_5459/3441285503.py\u001b[0m in \u001b[0;36m<module>\u001b[0;34m\u001b[0m\n\u001b[0;32m----> 1\u001b[0;31m \u001b[0;34m(\u001b[0m\u001b[0menvsum\u001b[0m \u001b[0;34m==\u001b[0m \u001b[0mcheck1\u001b[0m\u001b[0;34m)\u001b[0m\u001b[0;34m.\u001b[0m\u001b[0mtype\u001b[0m\u001b[0;34m(\u001b[0m\u001b[0mtorch\u001b[0m\u001b[0;34m.\u001b[0m\u001b[0mint\u001b[0m\u001b[0;34m)\u001b[0m\u001b[0;34m.\u001b[0m\u001b[0mis_nonzero\u001b[0m\u001b[0;34m(\u001b[0m\u001b[0;34m)\u001b[0m\u001b[0;34m\u001b[0m\u001b[0;34m\u001b[0m\u001b[0m\n\u001b[0m",
      "\u001b[0;31mRuntimeError\u001b[0m: Boolean value of Tensor with more than one value is ambiguous"
     ]
    }
   ],
   "source": [
    "(envsum == check1).type(torch.int)"
   ]
  },
  {
   "cell_type": "code",
   "execution_count": 221,
   "id": "251dc3b9",
   "metadata": {},
   "outputs": [
    {
     "data": {
      "text/plain": [
       "tensor([[ True,  True,  True, False, False,  True, False, False, False, False],\n",
       "        [False,  True,  True,  True, False, False,  True, False, False,  True],\n",
       "        [ True, False,  True, False, False, False,  True, False, False, False],\n",
       "        [False, False,  True,  True,  True,  True,  True, False,  True,  True],\n",
       "        [ True,  True, False,  True,  True, False, False, False,  True, False],\n",
       "        [ True, False,  True,  True, False, False,  True,  True, False,  True],\n",
       "        [ True,  True,  True,  True,  True, False, False, False, False,  True],\n",
       "        [False,  True,  True, False,  True,  True,  True, False,  True, False],\n",
       "        [ True, False, False, False, False, False, False,  True, False, False],\n",
       "        [False, False,  True, False, False,  True,  True, False, False, False]],\n",
       "       device='cuda:0')"
      ]
     },
     "execution_count": 221,
     "metadata": {},
     "output_type": "execute_result"
    }
   ],
   "source": [
    "envsum == check1"
   ]
  },
  {
   "cell_type": "code",
   "execution_count": 219,
   "id": "db82a91a",
   "metadata": {},
   "outputs": [
    {
     "data": {
      "text/plain": [
       "tensor([[2, 2, 2, 2, 2, 2, 2, 2, 2, 2],\n",
       "        [2, 2, 2, 2, 2, 2, 2, 2, 2, 2],\n",
       "        [2, 2, 2, 2, 2, 2, 2, 2, 2, 2],\n",
       "        [2, 2, 2, 2, 2, 2, 2, 2, 2, 2],\n",
       "        [2, 2, 2, 2, 2, 2, 2, 2, 2, 2],\n",
       "        [2, 2, 2, 2, 2, 2, 2, 2, 2, 2],\n",
       "        [2, 2, 2, 2, 2, 2, 2, 2, 2, 2],\n",
       "        [2, 2, 2, 2, 2, 2, 2, 2, 2, 2],\n",
       "        [2, 2, 2, 2, 2, 2, 2, 2, 2, 2],\n",
       "        [2, 2, 2, 2, 2, 2, 2, 2, 2, 2]], device='cuda:0')"
      ]
     },
     "execution_count": 219,
     "metadata": {},
     "output_type": "execute_result"
    }
   ],
   "source": [
    "id1"
   ]
  },
  {
   "cell_type": "code",
   "execution_count": null,
   "id": "4ce7df6d",
   "metadata": {},
   "outputs": [],
   "source": [
    "#     Any live cell with two or three live neighbours lives on to the next generation.\n",
    "canvas - 2"
   ]
  },
  {
   "cell_type": "code",
   "execution_count": 215,
   "id": "1551e143",
   "metadata": {},
   "outputs": [
    {
     "data": {
      "text/plain": [
       "tensor([[ True,  True,  True, False, False,  True, False, False, False, False],\n",
       "        [False,  True,  True,  True, False, False,  True, False, False,  True],\n",
       "        [ True, False,  True, False, False, False,  True, False, False, False],\n",
       "        [False, False,  True,  True,  True,  True,  True, False,  True,  True],\n",
       "        [ True,  True, False,  True,  True, False, False, False,  True, False],\n",
       "        [ True, False,  True,  True, False, False,  True,  True, False,  True],\n",
       "        [ True,  True,  True,  True,  True, False, False, False, False,  True],\n",
       "        [False,  True,  True, False,  True,  True,  True, False,  True, False],\n",
       "        [ True, False, False, False, False, False, False,  True, False, False],\n",
       "        [False, False,  True, False, False,  True,  True, False, False, False]],\n",
       "       device='cuda:0')"
      ]
     },
     "execution_count": 215,
     "metadata": {},
     "output_type": "execute_result"
    }
   ],
   "source": [
    "(envsum == 2).is_nonzero"
   ]
  },
  {
   "cell_type": "code",
   "execution_count": 208,
   "id": "61039e0e",
   "metadata": {},
   "outputs": [],
   "source": []
  },
  {
   "cell_type": "code",
   "execution_count": 209,
   "id": "5c468eed",
   "metadata": {},
   "outputs": [
    {
     "ename": "TypeError",
     "evalue": "where() received an invalid combination of arguments - got (Tensor, int, str), but expected one of:\n * (Tensor condition)\n * (Tensor condition, Tensor input, Tensor other, *, Tensor out)\n * (Tensor condition, Number self, Tensor other)\n      didn't match because some of the arguments have invalid types: (Tensor, !int!, !str!)\n * (Tensor condition, Tensor input, Number other)\n      didn't match because some of the arguments have invalid types: (Tensor, !int!, !str!)\n * (Tensor condition, Number self, Number other)\n      didn't match because some of the arguments have invalid types: (Tensor, !int!, !str!)\n",
     "output_type": "error",
     "traceback": [
      "\u001b[0;31m---------------------------------------------------------------------------\u001b[0m",
      "\u001b[0;31mTypeError\u001b[0m                                 Traceback (most recent call last)",
      "\u001b[0;32m/tmp/ipykernel_5459/3535105864.py\u001b[0m in \u001b[0;36m<module>\u001b[0;34m\u001b[0m\n\u001b[0;32m----> 1\u001b[0;31m \u001b[0mind\u001b[0m \u001b[0;34m=\u001b[0m \u001b[0mtorch\u001b[0m\u001b[0;34m.\u001b[0m\u001b[0mwhere\u001b[0m\u001b[0;34m(\u001b[0m\u001b[0menvsum\u001b[0m\u001b[0;34m,\u001b[0m \u001b[0;36m2\u001b[0m\u001b[0;34m,\u001b[0m \u001b[0;34m\"=\"\u001b[0m\u001b[0;34m)\u001b[0m\u001b[0;34m\u001b[0m\u001b[0;34m\u001b[0m\u001b[0m\n\u001b[0m",
      "\u001b[0;31mTypeError\u001b[0m: where() received an invalid combination of arguments - got (Tensor, int, str), but expected one of:\n * (Tensor condition)\n * (Tensor condition, Tensor input, Tensor other, *, Tensor out)\n * (Tensor condition, Number self, Tensor other)\n      didn't match because some of the arguments have invalid types: (Tensor, !int!, !str!)\n * (Tensor condition, Tensor input, Number other)\n      didn't match because some of the arguments have invalid types: (Tensor, !int!, !str!)\n * (Tensor condition, Number self, Number other)\n      didn't match because some of the arguments have invalid types: (Tensor, !int!, !str!)\n"
     ]
    }
   ],
   "source": [
    "ind = torch.where(envsum, , \"=\")"
   ]
  },
  {
   "cell_type": "code",
   "execution_count": 205,
   "id": "42cda7b3",
   "metadata": {},
   "outputs": [
    {
     "data": {
      "text/plain": [
       "tensor([[ 0,  0,  0,  1, -1,  0, -1, -1, -1, -1],\n",
       "        [-1,  0,  0,  0,  1, -1,  0, -1, -1,  0],\n",
       "        [ 0, -1,  0,  1, -1,  1,  0, -1, -1, -1],\n",
       "        [-1,  1,  0,  0,  0,  0,  0, -1,  0,  0],\n",
       "        [ 0,  0,  1,  0,  0, -1,  1,  1,  0,  1],\n",
       "        [ 0,  1,  0,  0, -1,  1,  0,  0,  1,  0],\n",
       "        [ 0,  0,  0,  0,  0, -1, -1,  1, -1,  0],\n",
       "        [-1,  0,  0, -1,  0,  0,  0, -1,  0, -1],\n",
       "        [ 0, -1, -1,  1,  1,  1, -1,  0, -1, -1],\n",
       "        [-1, -1,  0, -1,  1,  0,  0, -1, -1, -1]], device='cuda:0')"
      ]
     },
     "execution_count": 205,
     "metadata": {},
     "output_type": "execute_result"
    }
   ],
   "source": [
    "torch.sign(envsum - 2)"
   ]
  },
  {
   "cell_type": "code",
   "execution_count": null,
   "id": "e93d8316",
   "metadata": {},
   "outputs": [],
   "source": []
  },
  {
   "cell_type": "code",
   "execution_count": null,
   "id": "ece5cc8f",
   "metadata": {},
   "outputs": [],
   "source": []
  }
 ],
 "metadata": {
  "kernelspec": {
   "display_name": "Python 3 (ipykernel)",
   "language": "python",
   "name": "python3"
  },
  "language_info": {
   "codemirror_mode": {
    "name": "ipython",
    "version": 3
   },
   "file_extension": ".py",
   "mimetype": "text/x-python",
   "name": "python",
   "nbconvert_exporter": "python",
   "pygments_lexer": "ipython3",
   "version": "3.9.12"
  }
 },
 "nbformat": 4,
 "nbformat_minor": 5
}
