{
 "cells": [
  {
   "cell_type": "markdown",
   "id": "21171239",
   "metadata": {},
   "source": [
    "Simple conway game of life rules on GPU"
   ]
  },
  {
   "cell_type": "code",
   "execution_count": 11,
   "id": "1ee2a411",
   "metadata": {},
   "outputs": [],
   "source": [
    "import torch\n",
    "import numpy as np\n",
    "import os\n",
    "\n",
    "import matplotlib.pyplot as plt\n",
    "\n",
    "os.environ[\"PYTORCH_CUDA_ALLOC_CONF\"] = \"caching_allocator\""
   ]
  },
  {
   "cell_type": "code",
   "execution_count": 95,
   "id": "474d2d30",
   "metadata": {},
   "outputs": [],
   "source": [
    "torch.cuda.is_available()\n",
    "cuda = torch.device('cuda')\n",
    "cpu = torch.device('cpu')\n"
   ]
  },
  {
   "cell_type": "code",
   "execution_count": 96,
   "id": "d375a427",
   "metadata": {},
   "outputs": [],
   "source": [
    "canvas = torch.randint(0, 2, (100, 100), device=cuda, dtype=torch.int)"
   ]
  },
  {
   "cell_type": "code",
   "execution_count": 97,
   "id": "ddd23104",
   "metadata": {},
   "outputs": [
    {
     "data": {
      "text/plain": [
       "tensor([[0, 0, 0,  ..., 0, 1, 0],\n",
       "        [0, 1, 0,  ..., 0, 1, 1],\n",
       "        [1, 1, 1,  ..., 1, 1, 0],\n",
       "        ...,\n",
       "        [1, 1, 0,  ..., 1, 0, 0],\n",
       "        [1, 1, 0,  ..., 0, 1, 0],\n",
       "        [0, 1, 1,  ..., 0, 1, 0]], dtype=torch.int32)"
      ]
     },
     "execution_count": 97,
     "metadata": {},
     "output_type": "execute_result"
    }
   ],
   "source": [
    "canvas.to(cpu)"
   ]
  },
  {
   "cell_type": "code",
   "execution_count": 98,
   "id": "9d41c3af",
   "metadata": {},
   "outputs": [
    {
     "data": {
      "text/plain": [
       "<matplotlib.image.AxesImage at 0x7f55b352c4f0>"
      ]
     },
     "execution_count": 98,
     "metadata": {},
     "output_type": "execute_result"
    },
    {
     "data": {
      "image/png": "[encoded data removed]",
      "text/plain": [
       "<Figure size 640x480 with 1 Axes>"
      ]
     },
     "metadata": {},
     "output_type": "display_data"
    }
   ],
   "source": [
    "plt.imshow(canvas.to(cpu), origin=\"lower\")"
   ]
  },
  {
   "cell_type": "code",
   "execution_count": 99,
   "id": "e0446eeb",
   "metadata": {},
   "outputs": [
    {
     "data": {
      "text/plain": [
       "tensor([[0, 1, 0,  ..., 0, 1, 1],\n",
       "        [1, 1, 1,  ..., 1, 1, 0],\n",
       "        [0, 0, 1,  ..., 0, 1, 0],\n",
       "        ...,\n",
       "        [1, 1, 0,  ..., 0, 1, 0],\n",
       "        [0, 1, 1,  ..., 0, 1, 0],\n",
       "        [0, 0, 0,  ..., 0, 1, 0]], device='cuda:0', dtype=torch.int32)"
      ]
     },
     "execution_count": 99,
     "metadata": {},
     "output_type": "execute_result"
    }
   ],
   "source": [
    "torch.roll(canvas, -1, dims=0)"
   ]
  },
  {
   "cell_type": "code",
   "execution_count": 47,
   "id": "c34b2603",
   "metadata": {},
   "outputs": [
    {
     "data": {
      "text/plain": [
       "device(type='cuda', index=0)"
      ]
     },
     "execution_count": 47,
     "metadata": {},
     "output_type": "execute_result"
    }
   ],
   "source": [
    "canvas.device"
   ]
  },
  {
   "cell_type": "code",
   "execution_count": 177,
   "id": "e0bd245f",
   "metadata": {},
   "outputs": [],
   "source": [
    "def calc_shifted(intensor):\n",
    "    \"\"\"shifted up, down, left, right\"\"\"\n",
    "    out_size = (*tuple(intensor.shape), 4)\n",
    "    output = torch.zeros(out_size, dtype=intensor.dtype, device=intensor.device)   \n",
    "    output[:, :, 0] = torch.roll(intensor, shifts=-1, dims=0)\n",
    "    output[:, :, 1] = torch.roll(intensor, shifts=1, dims=0)\n",
    "    output[:, :, 2] = torch.roll(intensor, shifts=-1, dims=1)\n",
    "    output[:, :, 3] = torch.roll(intensor, shifts=1, dims=1)\n",
    "    return output\n",
    "    \n",
    "def calc_unshifted(intensor):\n",
    "    out_size = (*tuple(intensor.shape), 4)\n",
    "    output = torch.zeros(out_size, dtype=intensor.dtype, device=intensor.device)   \n",
    "    output[:, :, 0] = torch.roll(intensor, shifts=1, dims=0)\n",
    "    output[:, :, 1] = torch.roll(intensor, shifts=-1, dims=0)\n",
    "    output[:, :, 2] = torch.roll(intensor, shifts=1, dims=1)\n",
    "    output[:, :, 3] = torch.roll(intensor, shifts=-1, dims=1)\n",
    "    return output\n",
    "\n",
    "def center_cut(intensor):\n",
    "    output = intensor[1:-1, 1:-1]\n",
    "    return output\n",
    "    \n",
    "def center_cut_dd(intensor):\n",
    "    output = intensor[1:-1, 1:-1, :]\n",
    "    return output\n",
    "    \n",
    "def null_edges(intensor):\n",
    "    intensor[0, :] = 0\n",
    "    intensor[:, 0] = 0\n",
    "    intensor[:, -1] = 0\n",
    "    intensor[-1, :] = 0\n",
    "    return intensor\n",
    "\n",
    "\n",
    "def pad(canvas):\n",
    "    \"\"\"Warning, torch pad has a really strange syntax\"\"\"\n",
    "    arr = torch.nn.functional.pad(canvas, (1, 1, 1, 1), mode=\"constant\", value=0)\n",
    "    return arr"
   ]
  },
  {
   "cell_type": "code",
   "execution_count": 178,
   "id": "7b0e067b",
   "metadata": {},
   "outputs": [],
   "source": [
    "canvas = torch.randint(0, 2, (10, 10), device=cuda, dtype=torch.int)"
   ]
  },
  {
   "cell_type": "code",
   "execution_count": 179,
   "id": "6205c532",
   "metadata": {},
   "outputs": [
    {
     "data": {
      "text/plain": [
       "torch.Size([10, 10])"
      ]
     },
     "execution_count": 179,
     "metadata": {},
     "output_type": "execute_result"
    }
   ],
   "source": [
    "canvas.shape"
   ]
  },
  {
   "cell_type": "code",
   "execution_count": 180,
   "id": "5e2c564c",
   "metadata": {},
   "outputs": [
    {
     "data": {
      "text/plain": [
       "torch.Size([12, 12])"
      ]
     },
     "execution_count": 180,
     "metadata": {},
     "output_type": "execute_result"
    }
   ],
   "source": [
    "pad(canvas).shape"
   ]
  },
  {
   "cell_type": "code",
   "execution_count": 181,
   "id": "9142d70a",
   "metadata": {},
   "outputs": [
    {
     "data": {
      "text/plain": [
       "<matplotlib.image.AxesImage at 0x7f55a1ce5280>"
      ]
     },
     "execution_count": 181,
     "metadata": {},
     "output_type": "execute_result"
    },
    {
     "data": {
      "image/png": "[encoded data removed]",
      "text/plain": [
       "<Figure size 640x480 with 1 Axes>"
      ]
     },
     "metadata": {},
     "output_type": "display_data"
    }
   ],
   "source": [
    "plt.imshow(canvas.to(cpu), origin=\"lower\")"
   ]
  },
  {
   "cell_type": "code",
   "execution_count": 184,
   "id": "c5207cf5",
   "metadata": {},
   "outputs": [],
   "source": [
    "tens = center_cut_dd(calc_shifted(pad(canvas)))"
   ]
  },
  {
   "cell_type": "code",
   "execution_count": 194,
   "id": "851d6ffd",
   "metadata": {},
   "outputs": [
    {
     "data": {
      "text/plain": [
       "<matplotlib.image.AxesImage at 0x7f55a1f25eb0>"
      ]
     },
     "execution_count": 194,
     "metadata": {},
     "output_type": "execute_result"
    },
    {
     "data": {
      "image/png": "[encoded data removed]",
      "text/plain": [
       "<Figure size 640x480 with 1 Axes>"
      ]
     },
     "metadata": {},
     "output_type": "display_data"
    }
   ],
   "source": [
    "plt.imshow(tens[:, :, 3].to(cpu), origin=\"lower\")"
   ]
  },
  {
   "cell_type": "code",
   "execution_count": null,
   "id": "f95b25ca",
   "metadata": {},
   "outputs": [],
   "source": [
    "center_cut_dd(calc_shifted(pad(canvas)))"
   ]
  },
  {
   "cell_type": "code",
   "execution_count": 175,
   "id": "819ce9c4",
   "metadata": {},
   "outputs": [],
   "source": [
    "shifted = calc_shifted(pad(canvas))"
   ]
  },
  {
   "cell_type": "code",
   "execution_count": 176,
   "id": "29f356a9",
   "metadata": {},
   "outputs": [
    {
     "data": {
      "text/plain": [
       "torch.Size([12, 12, 4])"
      ]
     },
     "execution_count": 176,
     "metadata": {},
     "output_type": "execute_result"
    }
   ],
   "source": [
    "shifted.shape"
   ]
  },
  {
   "cell_type": "code",
   "execution_count": null,
   "id": "c9cf346e",
   "metadata": {},
   "outputs": [],
   "source": [
    "plt.imshow(pad(canvas).to(cpu), origin=\"lower\")"
   ]
  }
 ],
 "metadata": {
  "kernelspec": {
   "display_name": "Python 3 (ipykernel)",
   "language": "python",
   "name": "python3"
  },
  "language_info": {
   "codemirror_mode": {
    "name": "ipython",
    "version": 3
   },
   "file_extension": ".py",
   "mimetype": "text/x-python",
   "name": "python",
   "nbconvert_exporter": "python",
   "pygments_lexer": "ipython3",
   "version": "3.9.12"
  }
 },
 "nbformat": 4,
 "nbformat_minor": 5
}
