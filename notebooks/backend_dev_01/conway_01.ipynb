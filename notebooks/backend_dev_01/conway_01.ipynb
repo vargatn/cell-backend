{
 "cells": [
  {
   "cell_type": "markdown",
   "id": "595b1598",
   "metadata": {},
   "source": [
    "Simple conway game of life rules on GPU"
   ]
  },
  {
   "cell_type": "code",
   "execution_count": 11,
   "id": "88203e46",
   "metadata": {},
   "outputs": [],
   "source": [
    "import torch\n",
    "import numpy as np\n",
    "import os\n",
    "\n",
    "import matplotlib.pyplot as plt\n",
    "\n",
    "os.environ[\"PYTORCH_CUDA_ALLOC_CONF\"] = \"caching_allocator\""
   ]
  },
  {
   "cell_type": "code",
   "execution_count": 20,
   "id": "1e81f83f",
   "metadata": {},
   "outputs": [],
   "source": [
    "torch.cuda.is_available()\n",
    "cuda = torch.device('cuda')\n",
    "cpu = torch.device('cpu')\n"
   ]
  },
  {
   "cell_type": "code",
   "execution_count": 32,
   "id": "b004094e",
   "metadata": {},
   "outputs": [],
   "source": [
    "canvas = torch.randint(0, 2, (100, 100), device=cuda, dtype=torch.int)"
   ]
  },
  {
   "cell_type": "code",
   "execution_count": 33,
   "id": "9aa4cb62",
   "metadata": {},
   "outputs": [
    {
     "data": {
      "text/plain": [
       "tensor([[1, 1, 1,  ..., 0, 0, 1],\n",
       "        [1, 1, 0,  ..., 0, 1, 0],\n",
       "        [1, 0, 0,  ..., 0, 0, 0],\n",
       "        ...,\n",
       "        [1, 1, 1,  ..., 0, 1, 1],\n",
       "        [1, 0, 0,  ..., 1, 0, 1],\n",
       "        [0, 0, 1,  ..., 0, 1, 1]], dtype=torch.int32)"
      ]
     },
     "execution_count": 33,
     "metadata": {},
     "output_type": "execute_result"
    }
   ],
   "source": [
    "canvas.to(cpu)"
   ]
  },
  {
   "cell_type": "code",
   "execution_count": 35,
   "id": "aa38f656",
   "metadata": {},
   "outputs": [
    {
     "data": {
      "text/plain": [
       "<matplotlib.image.AxesImage at 0x7f55b30a48e0>"
      ]
     },
     "execution_count": 35,
     "metadata": {},
     "output_type": "execute_result"
    },
    {
     "data": {
      "image/png": "[encoded data removed]",
      "text/plain": [
       "<Figure size 640x480 with 1 Axes>"
      ]
     },
     "metadata": {},
     "output_type": "display_data"
    }
   ],
   "source": [
    "plt.imshow(canvas.to(cpu), origin=\"lower\")"
   ]
  },
  {
   "cell_type": "code",
   "execution_count": 41,
   "id": "c2c76d0f",
   "metadata": {},
   "outputs": [
    {
     "data": {
      "text/plain": [
       "tensor([[1, 1, 0,  ..., 0, 1, 0],\n",
       "        [1, 0, 0,  ..., 0, 0, 0],\n",
       "        [1, 1, 1,  ..., 0, 0, 1],\n",
       "        ...,\n",
       "        [1, 0, 0,  ..., 1, 0, 1],\n",
       "        [0, 0, 1,  ..., 0, 1, 1],\n",
       "        [1, 1, 1,  ..., 0, 0, 1]], device='cuda:0', dtype=torch.int32)"
      ]
     },
     "execution_count": 41,
     "metadata": {},
     "output_type": "execute_result"
    }
   ],
   "source": [
    "torch.roll(canvas, -1, dims=0)"
   ]
  },
  {
   "cell_type": "code",
   "execution_count": 47,
   "id": "f02580da",
   "metadata": {},
   "outputs": [
    {
     "data": {
      "text/plain": [
       "device(type='cuda', index=0)"
      ]
     },
     "execution_count": 47,
     "metadata": {},
     "output_type": "execute_result"
    }
   ],
   "source": [
    "canvas.device"
   ]
  },
  {
   "cell_type": "code",
   "execution_count": 92,
   "id": "ba75002f",
   "metadata": {},
   "outputs": [],
   "source": [
    "def calc_shifted(intensor):\n",
    "    \"\"\"shifted up, down, left, right\"\"\"\n",
    "\n",
    "    out_size = (*tuple(intensor.shape), 4)\n",
    "    output = torch.zeros(out_size, dtype=intensor.dtype, device=intensor.device)   \n",
    "    output[:, :, 0] = torch.roll(canvas, shifts=-1, dims=0)\n",
    "    output[:, :, 1] = torch.roll(canvas, shifts=1, dims=0)\n",
    "    output[:, :, 2] = torch.roll(canvas, shifts=-1, dims=1)\n",
    "    output[:, :, 3] = torch.roll(canvas, shifts=1, dims=1)\n",
    "    return output\n",
    "    \n",
    "def calc_unshifted(intensor):\n",
    "    out_size = (*tuple(intensor.shape), 4)\n",
    "    output = torch.zeros(out_size, dtype=intensor.dtype, device=intensor.device)   \n",
    "    output[:, :, 0] = torch.roll(canvas, shifts=1, dims=0)\n",
    "    output[:, :, 1] = torch.roll(canvas, shifts=-1, dims=0)\n",
    "    output[:, :, 2] = torch.roll(canvas, shifts=1, dims=1)\n",
    "    output[:, :, 3] = torch.roll(canvas, shifts=-1, dims=1)\n",
    "    return output\n",
    "\n",
    "def center_cut(intensor):\n",
    "    output = intensor[1:-1, 1:-1]\n",
    "    \n",
    "    \n",
    "def null_edges(intensor):\n",
    "    intensor[0, :] = 0\n",
    "    intensor[:, 0] = 0\n",
    "    intensor[:, -1] = 0\n",
    "    intensor[-1, :] = 0\n",
    "    return intensor\n"
   ]
  },
  {
   "cell_type": "code",
   "execution_count": 34,
   "id": "1d28aa8c",
   "metadata": {
    "scrolled": false
   },
   "outputs": [
    {
     "data": {
      "text/plain": [
       "<matplotlib.image.AxesImage at 0x7f55b37ae100>"
      ]
     },
     "execution_count": 34,
     "metadata": {},
     "output_type": "execute_result"
    },
    {
     "data": {
      "image/png": "[encoded data removed]",
      "text/plain": [
       "<Figure size 640x480 with 1 Axes>"
      ]
     },
     "metadata": {},
     "output_type": "display_data"
    }
   ],
   "source": []
  },
  {
   "cell_type": "code",
   "execution_count": null,
   "id": "5e74449a",
   "metadata": {},
   "outputs": [],
   "source": [
    ", "
   ]
  }
 ],
 "metadata": {
  "kernelspec": {
   "display_name": "Python 3 (ipykernel)",
   "language": "python",
   "name": "python3"
  },
  "language_info": {
   "codemirror_mode": {
    "name": "ipython",
    "version": 3
   },
   "file_extension": ".py",
   "mimetype": "text/x-python",
   "name": "python",
   "nbconvert_exporter": "python",
   "pygments_lexer": "ipython3",
   "version": "3.9.12"
  }
 },
 "nbformat": 4,
 "nbformat_minor": 5
}
